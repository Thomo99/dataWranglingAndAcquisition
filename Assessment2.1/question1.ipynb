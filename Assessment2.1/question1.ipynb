{
 "cells": [
  {
   "cell_type": "code",
   "execution_count": 9,
   "metadata": {},
   "outputs": [
    {
     "name": "stdout",
     "output_type": "stream",
     "text": [
      "['lavorato-j', 'townsend-j', 'kaminski-v', 'kaminski-v', 'kaminski-v', 'kaminski-v', 'kaminski-v', 'shively-h', 'germany-c', 'germany-c', 'buy-r', 'mclaughlin-e', 'dasovich-j', 'dasovich-j', 'arora-h', 'arora-h', 'martin-t', 'martin-t', 'martin-t', 'martin-t', 'martin-t', 'martin-t', 'martin-t', 'martin-t', 'martin-t', 'martin-t', 'martin-t', 'martin-t', 'martin-t', 'martin-t', 'martin-t', 'martin-t', 'martin-t', 'martin-t', 'martin-t', 'martin-t', 'martin-t', 'storey-g', 'ruscitti-k', 'schwieger-j', 'griffith-j', 'griffith-j', 'taylor-m', 'kitchen-l', 'kitchen-l', 'kitchen-l', 'kitchen-l', 'kitchen-l', 'kitchen-l', 'williams-j', 'williams-j', 'giron-d', 'giron-d', 'carson-m', 'love-p', 'love-p', 'love-p', 'sturm-f', 'shapiro-r', 'brawner-s', 'brawner-s', 'brawner-s', 'brawner-s', 'brawner-s', 'hodge-j', 'hodge-j', 'pimenov-v', 'pimenov-v', 'neal-s', 'baughman-d', 'mims-thurston-p', 'may-l', 'keavey-p', 'keavey-p', 'parks-j', 'quigley-d', 'benson-r', 'donohoe-t']\n",
      "78\n"
     ]
    }
   ],
   "source": [
    "# Open the search results file\n",
    "with open('./SPEs.text', 'r') as file:\n",
    "    # Read all lines from the file\n",
    "    lines = file.readlines()\n",
    "\n",
    "# Initialize an empty list to store search results\n",
    "search_results = []\n",
    "\n",
    "# Iterate over each line in the file\n",
    "for line in lines:\n",
    "    parts = line.split('/')\n",
    "\n",
    "    if len(parts) >= 3:\n",
    "        result = parts[2]\n",
    "        search_results.append(result)\n",
    "\n",
    "# Print the search results list\n",
    "print(search_results)\n",
    "\n",
    "count = 0\n",
    "\n",
    "for name in search_results:\n",
    "    count +=1 \n",
    "\n",
    "print(count)\n"
   ]
  }
 ],
 "metadata": {
  "kernelspec": {
   "display_name": "Python 3",
   "language": "python",
   "name": "python3"
  },
  "language_info": {
   "codemirror_mode": {
    "name": "ipython",
    "version": 3
   },
   "file_extension": ".py",
   "mimetype": "text/x-python",
   "name": "python",
   "nbconvert_exporter": "python",
   "pygments_lexer": "ipython3",
   "version": "3.12.1"
  }
 },
 "nbformat": 4,
 "nbformat_minor": 2
}
