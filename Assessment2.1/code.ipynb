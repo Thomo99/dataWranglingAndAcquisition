{
 "cells": [
  {
   "cell_type": "code",
   "execution_count": 6,
   "metadata": {},
   "outputs": [
    {
     "name": "stdout",
     "output_type": "stream",
     "text": [
      "['townsend-j', 'kaminski-v', 'kaminski-v', 'kaminski-v', 'buy-r', 'buy-r', 'harris-s', 'watson-k', 'watson-k', 'watson-k', 'taylor-m']\n"
     ]
    }
   ],
   "source": [
    "# Open the search results file\n",
    "with open('./market_to_market.text', 'r') as file:\n",
    "    # Read all lines from the file\n",
    "    lines = file.readlines()\n",
    "\n",
    "# Initialize an empty list to store search results\n",
    "search_results = []\n",
    "\n",
    "# Iterate over each line in the file\n",
    "for line in lines:\n",
    "    parts = line.split('/')\n",
    "\n",
    "    if len(parts) >= 3:\n",
    "        result = parts[2]\n",
    "        search_results.append(result)\n",
    "\n",
    "# Print the search results list\n",
    "print(search_results)\n"
   ]
  }
 ],
 "metadata": {
  "kernelspec": {
   "display_name": "Python 3",
   "language": "python",
   "name": "python3"
  },
  "language_info": {
   "codemirror_mode": {
    "name": "ipython",
    "version": 3
   },
   "file_extension": ".py",
   "mimetype": "text/x-python",
   "name": "python",
   "nbconvert_exporter": "python",
   "pygments_lexer": "ipython3",
   "version": "3.12.1"
  }
 },
 "nbformat": 4,
 "nbformat_minor": 2
}
