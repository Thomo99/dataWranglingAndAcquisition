{
 "cells": [
  {
   "cell_type": "code",
   "execution_count": 4,
   "metadata": {},
   "outputs": [
    {
     "name": "stdout",
     "output_type": "stream",
     "text": [
      "{'Message-ID': None, 'Date': None, 'From': None, 'To': None, 'Cc': None, 'Bcc': None, 'Subject': None, 'Body': \"{\\\\rtf1\\\\ansi\\\\ansicpg1252\\\\cocoartf2759\\n\\\\cocoatextscaling0\\\\cocoaplatform0{\\\\fonttbl\\\\f0\\\\fswiss\\\\fcharset0 Helvetica;}\\n{\\\\colortbl;\\\\red255\\\\green255\\\\blue255;}\\n{\\\\*\\\\expandedcolortbl;;}\\n\\\\paperw11900\\\\paperh16840\\\\margl1440\\\\margr1440\\\\vieww11520\\\\viewh8400\\\\viewkind0\\n\\\\pard\\\\tx720\\\\tx1440\\\\tx2160\\\\tx2880\\\\tx3600\\\\tx4320\\\\tx5040\\\\tx5760\\\\tx6480\\\\tx7200\\\\tx7920\\\\tx8640\\\\pardirnatural\\\\partightenfactor0\\n\\n\\\\f0\\\\fs24 \\\\cf0 maildir/\\\\\\nDate: Fri, 14 Sep 2001 14:05:43 -0700 (PDT)\\n\\\\\\nFrom: fran.fagan@enron.com\\n\\\\\\nTo: lynn.blair@enron.com\\n\\\\\\nSubject: FW: Promotions and Transfers- Gas Logistics\\n\\\\\\nMime-Version: 1.0\\n\\\\\\nContent-Type: text/plain; charset=us-ascii\\n\\\\\\nContent-Transfer-Encoding: 7bit\\n\\\\\\nX-From: Fagan, Fran </O=ENRON/OU=NA/CN=RECIPIENTS/CN=FFAGAN>\\n\\\\\\nX-To: Blair, Lynn </O=ENRON/OU=NA/CN=RECIPIENTS/CN=Lblair>\\n\\\\\\nX-cc: \\n\\\\\\nX-bcc: \\n\\\\\\nX-Folder: \\\\\\\\LBLAIR (Non-Privileged)\\\\\\\\Blair, Lynn\\\\\\\\Personnel - Promotions\\n\\\\\\nX-Origin: Blair-L\\n\\\\\\nX-FileName: LBLAIR (Non-Privileged).pst\\n\\\\\\n\\n\\\\\\n\\\\\\n\\\\\\n\\\\\\n\\\\\\nName\\t\\t\\tNew Title\\t\\t\\t\\tEffective Date\\t\\t\\tMid Year promotion Yes/No\\\\\\n\\\\\\nFloyd, Jodie\\t\\tSr Cust Svc Rep (no change)\\t\\t7/16/01\\t\\t\\t\\tNo\\\\\\n\\\\\\nBuehler, Craig\\t\\tSr Mkt/Sup Analyst (no change)\\t\\t7/16/01\\t\\t\\t\\tNo\\\\\\n\\\\\\nWagoner, Mike\\t\\tTeam Advisor - Gas Control\\t\\t7/1/01\\t\\t\\t\\tNo\\\\\\n\\\\\\nClapper, Karen\\t\\tSr Cust Svc Rep\\t\\t\\t8/1/01\\t\\t\\t\\tYes\\\\\\n\\\\\\nGreaney, Chris\\t\\tSr Cust Svc Rep\\t\\t\\t8/1/01\\t\\t\\t\\tYes\\\\\\n\\\\\\nWilkens, Jerry\\t\\tSr Cust Svc Rep\\t\\t\\t8/1/01\\t\\t\\t\\tYes\\\\\\n\\\\\\nMinton, Kevin\\t\\tPipeline Controller\\t\\t\\t8/1/01\\t\\t\\t\\tYes\\\\\\n\\\\\\nCox, Don\\t\\tPipeline Controller\\t\\t\\t8/1/01\\t\\t\\t\\tYes\\\\\\n\\\\\\nHanagriff, Richard\\tSr Accounting Control Spec\\t\\t8/1/01\\t\\t\\t\\tYes\\\\\\n\\\\\\n\\\\\\nThanks,\\\\\\nMS\\\\\\n\\\\\\n\\\\\\n\\\\\\n\\\\\\n\\\\\\n\\\\\\n0644\\\\\\nDate: Mon, 10 Sep 2001 10:33:15 -0700 (PDT)\\n\\\\\\nFrom: maggie.matheson@enron.com\\n\\\\\\nTo: randy.bryan@enron.com, robert.benningfield@enron.com, \\n\\\\\\n\\tsherry.forbish@enron.com, jodie.floyd@enron.com, \\n\\\\\\n\\trenee.perry@enron.com\\n\\\\\\nSubject: Customer Training\\n\\\\\\nCc: bradley.holmes@enron.com, lynn.blair@enron.com\\n\\\\\\nMime-Version: 1.0\\n\\\\\\nContent-Type: text/plain; charset=us-ascii\\n\\\\\\nContent-Transfer-Encoding: 7bit\\n\\\\\\nBcc: bradley.holmes@enron.com, lynn.blair@enron.com\\n\\\\\\nX-From: Matheson, Maggie </O=ENRON/OU=NA/CN=RECIPIENTS/CN=MMATHES>\\n\\\\\\nX-To: Bryan, Randy </O=ENRON/OU=NA/CN=RECIPIENTS/CN=Rbryan2>, Benningfield, Robert </O=ENRON/OU=NA/CN=RECIPIENTS/CN=Rbennin>, Forbish, Sherry </O=ENRON/OU=NA/CN=RECIPIENTS/CN=Sforbis>, Floyd, Jodie </O=ENRON/OU=NA/CN=RECIPIENTS/CN=Jfloyd>, Perry, Renee </O=ENRON/OU=NA/CN=RECIPIENTS/CN=Kperry>\\n\\\\\\nX-cc: Holmes, Bradley </O=ENRON/OU=NA/CN=RECIPIENTS/CN=Bholmes>, Blair, Lynn </O=ENRON/OU=NA/CN=RECIPIENTS/CN=Lblair>\\n\\\\\\nX-bcc: \\n\\\\\\nX-Folder: \\\\\\\\LBLAIR (Non-Privileged)\\\\\\\\Blair, Lynn\\\\\\\\Meetings - NNG Customer Mtg\\n\\\\\\nX-Origin: Blair-L\\n\\\\\\nX-FileName: LBLAIR (Non-Privileged).pst\\n\\\\\\n\\n\\\\\\n\\\\\\n\\\\\\nFirst I want to thank you for all of your help in Kansas City, I think the training went very well.  If you have any suggestions for improvements I would really appreciate your feedback.  Secondly, If you had any comments or suggestions from the customers during the training I'm trying to get them together so I can include them with the feedback given at the other break sessions.  You can send them via e-mailing or come by my desk.\\\\\\n\\\\\\nAlso several of you mentioned given the new hires the training document, I think this is a great idea so I'm attaching a copy.  If after going over the document there are some questions, let me know and I will be glad to meet with them.\\\\\\n\\\\\\n\\\\\\n \\\\\\n\\\\\\nThanks,\\\\\\n\\\\\\nMaggie}\"}\n"
     ]
    }
   ],
   "source": [
    "import email\n",
    "from email import policy\n",
    "from email.parser import BytesParser\n",
    "\n",
    "def parse_email(file_path):\n",
    "    with open(file_path, 'rb') as f:\n",
    "        msg = BytesParser(policy=policy.default).parse(f)\n",
    "    \n",
    "    email_data = {\n",
    "        'Message-ID': msg['Message-ID'],\n",
    "        'Date': msg['Date'],\n",
    "        'From': msg['From'],\n",
    "        'To': msg['To'],\n",
    "        'Cc': msg['Cc'],\n",
    "        'Bcc': msg['Bcc'],\n",
    "        'Subject': msg['Subject'],\n",
    "        'Body': ''\n",
    "    }\n",
    "\n",
    "    if msg.is_multipart():\n",
    "        for part in msg.iter_parts():\n",
    "            content_type = part.get_content_type()\n",
    "            if content_type == 'text/plain':\n",
    "                email_data['Body'] += part.get_payload(decode=True).decode('utf-8', 'ignore')\n",
    "    else:\n",
    "        email_data['Body'] = msg.get_payload(decode=True).decode('utf-8', 'ignore')\n",
    "\n",
    "    return email_data\n",
    "\n",
    "# Example usage\n",
    "email_path = \"/Users/danielthompson/Desktop/EnronSample\"\n",
    "email_data = parse_email(email_path)\n",
    "print(email_data)\n"
   ]
  }
 ],
 "metadata": {
  "kernelspec": {
   "display_name": "Python 3",
   "language": "python",
   "name": "python3"
  },
  "language_info": {
   "codemirror_mode": {
    "name": "ipython",
    "version": 3
   },
   "file_extension": ".py",
   "mimetype": "text/x-python",
   "name": "python",
   "nbconvert_exporter": "python",
   "pygments_lexer": "ipython3",
   "version": "3.12.1"
  }
 },
 "nbformat": 4,
 "nbformat_minor": 2
}
