{
 "cells": [
  {
   "cell_type": "code",
   "execution_count": null,
   "metadata": {},
   "outputs": [],
   "source": [
    "import email\n",
    "from email import policy\n",
    "from email.parser import BytesParser\n",
    "\n",
    "def parse_email(file_path):\n",
    "    with open(file_path, 'rb') as f:\n",
    "        msg = BytesParser(policy=policy.default).parse(f)\n",
    "    \n",
    "    email_data = {\n",
    "        'Message-ID': msg['Message-ID'],\n",
    "        'Date': msg['Date'],\n",
    "        'From': msg['From'],\n",
    "        'To': msg['To'],\n",
    "        'Cc': msg['Cc'],\n",
    "        'Bcc': msg['Bcc'],\n",
    "        'Subject': msg['Subject'],\n",
    "        'Body': ''\n",
    "    }\n",
    "\n",
    "    if msg.is_multipart():\n",
    "        for part in msg.iter_parts():\n",
    "            content_type = part.get_content_type()\n",
    "            if content_type == 'text/plain':\n",
    "                email_data['Body'] += part.get_payload(decode=True).decode('utf-8', 'ignore')\n",
    "    else:\n",
    "        email_data['Body'] = msg.get_payload(decode=True).decode('utf-8', 'ignore')\n",
    "\n",
    "    return email_data\n",
    "\n",
    "# Example usage\n",
    "email_path = \"/Users/danielthompson/Desktop/EnronMailDataset\"\n",
    "email_data = parse_email(email_path)\n",
    "print(email_data)\n"
   ]
  }
 ],
 "metadata": {
  "kernelspec": {
   "display_name": "Python 3",
   "language": "python",
   "name": "python3"
  },
  "language_info": {
   "codemirror_mode": {
    "name": "ipython",
    "version": 3
   },
   "file_extension": ".py",
   "mimetype": "text/x-python",
   "name": "python",
   "nbconvert_exporter": "python",
   "pygments_lexer": "ipython3",
   "version": "3.12.1"
  }
 },
 "nbformat": 4,
 "nbformat_minor": 2
}
