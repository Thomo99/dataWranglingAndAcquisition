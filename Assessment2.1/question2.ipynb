{
 "cells": [
  {
   "cell_type": "code",
   "execution_count": 3,
   "metadata": {},
   "outputs": [
    {
     "name": "stdout",
     "output_type": "stream",
     "text": [
      "{'allen-p': 362, 'arnold-j': 724, 'arora-h': 198, 'badeer-r': 14, 'bailey-s': 435, 'bass-e': 416, 'baughman-d': 432, 'beck-s': 310, 'benson-r': 204, 'blair-l': 664, 'brawner-s': 241, 'buy-r': 111, 'campbell-l': 2, 'carson-m': 374, 'cash-m': 467, 'causholli-m': 516, 'corman-s': 461, 'crandell-s': 90, 'cuilla-m': 422, 'dasovich-j': 1565, 'davis-d': 335, 'dean-c': 344, 'delainey-d': 10, 'derrick-j': 342, 'donoho-l': 115, 'donohoe-t': 32, 'dorland-c': 200, 'ermis-f': 7, 'farmer-d': 381, 'fischer-m': 113, 'forney-j': 118, 'gang-l': 452, 'gay-r': 90, 'geaccone-t': 374, 'germany-c': 346, 'gilbertsmith-d': 192, 'giron-d': 416, 'griffith-j': 926, 'grigsby-m': 353, 'haedicke-m': 263, 'harris-s': 493, 'hayslett-r': 259, 'heard-m': 233, 'hendrickson-s': 180, 'hernandez-j': 41, 'hodge-j': 488, 'holst-k': 236, 'horton-s': 393, 'hyatt-k': 650, 'jones-t': 67, 'kaminski-v': 1793, 'kean-s': 517, 'keavey-p': 317, 'keiser-k': 285, 'king-j': 347, 'kitchen-l': 203, 'kuykendall-t': 170, 'lavorato-j': 716, 'lay-k': 1127, 'lenhart-m': 484, 'lewis-a': 1360, 'lokay-m': 353, 'lokey-t': 206, 'love-p': 489, 'lucci-p': 570, 'maggi-m': 1650, 'mann-k': 181, 'martin-t': 206, 'may-l': 12, 'mccarty-d': 255, 'mcconnell-m': 103, 'mckay-b': 309, 'mckay-j': 242, 'mclaughlin-e': 429, 'meyers-a': 1067, 'mims-thurston-p': 716, 'motley-m': 126, 'neal-s': 658, 'nemec-g': 114, 'panus-s': 378, 'parks-j': 1079, 'pereira-s': 165, 'perlingiere-d': 370, 'phanis-s': 18, 'pimenov-v': 360, 'platter-p': 57, 'presto-k': 1041, 'quenet-j': 137, 'quigley-d': 391, 'rapp-b': 119, 'reitmeyer-j': 89, 'richey-c': 29, 'ring-a': 138, 'ring-r': 287, 'rogers-b': 375, 'ruscitti-k': 144, 'sager-e': 134, 'saibi-e': 17, 'salisbury-h': 15, 'sanchez-m': 62, 'sanders-r': 531, 'schoolcraft-d': 609, 'schwieger-j': 201, 'scott-s': 458, 'semperger-c': 363, 'shackleton-s': 656, 'shankman-j': 842, 'shapiro-r': 1472, 'shively-h': 597, 'skilling-j': 484, 'slinger-r': 36, 'smith-m': 86, 'solberg-g': 852, 'staab-t': 285, 'steffes-j': 656, 'stepenovitch-j': 320, 'storey-g': 328, 'sturm-f': 212, 'swerzbin-m': 15, 'taylor-m': 633, 'tholt-j': 245, 'thomas-p': 688, 'townsend-j': 133, 'tycholiz-b': 159, 'ward-k': 312, 'watson-k': 423, 'weldon-c': 272, 'whalley-g': 67, 'white-s': 990, 'whitt-m': 38, 'williams-j': 434, 'wolfe-j': 109, 'ybarbo-p': 115, 'zipper-a': 543, 'zufferli-j': 118}\n"
     ]
    }
   ],
   "source": [
    "def process_file(file_path):\n",
    "    counts = {}\n",
    "    current_name = None\n",
    "    current_count = 0\n",
    "\n",
    "    with open(file_path, 'r') as file:\n",
    "        for line in file:\n",
    "            parts = line.split('/')\n",
    "            if line.startswith('./'):\n",
    "                if current_name:\n",
    "                    counts[current_name] = current_count\n",
    "                current_name = line[2:].split('/')[0]\n",
    "                current_count = 0\n",
    "            elif line == '':\n",
    "                # Handle the blank line between name and numbers\n",
    "                continue\n",
    "            else:\n",
    "                current_count += 1\n",
    "\n",
    "        # Add the count for the last name encountered\n",
    "        if current_name:\n",
    "            counts[current_name] = current_count\n",
    "\n",
    "    return counts\n",
    "\n",
    "file_path = \"./delete.text\"\n",
    "result = process_file(file_path)\n",
    "print(result)\n"
   ]
  }
 ],
 "metadata": {
  "kernelspec": {
   "display_name": "Python 3",
   "language": "python",
   "name": "python3"
  },
  "language_info": {
   "codemirror_mode": {
    "name": "ipython",
    "version": 3
   },
   "file_extension": ".py",
   "mimetype": "text/x-python",
   "name": "python",
   "nbconvert_exporter": "python",
   "pygments_lexer": "ipython3",
   "version": "3.12.1"
  }
 },
 "nbformat": 4,
 "nbformat_minor": 2
}
